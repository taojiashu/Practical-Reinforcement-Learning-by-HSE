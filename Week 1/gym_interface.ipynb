{
 "cells": [
  {
   "cell_type": "code",
   "execution_count": 1,
   "metadata": {},
   "outputs": [
    {
     "ename": "ModuleNotFoundError",
     "evalue": "No module named 'matplotlib'",
     "traceback": [
      "\u001b[0;31m---------------------------------------------------------------------------\u001b[0m",
      "\u001b[0;31mModuleNotFoundError\u001b[0m                       Traceback (most recent call last)",
      "\u001b[0;32m<ipython-input-1-666dd504b175>\u001b[0m in \u001b[0;36m<module>\u001b[0;34m()\u001b[0m\n\u001b[1;32m      1\u001b[0m \u001b[0;32mimport\u001b[0m \u001b[0mnumpy\u001b[0m \u001b[0;32mas\u001b[0m \u001b[0mnp\u001b[0m\u001b[0;34m\u001b[0m\u001b[0m\n\u001b[0;32m----> 2\u001b[0;31m \u001b[0;32mimport\u001b[0m \u001b[0mmatplotlib\u001b[0m\u001b[0;34m.\u001b[0m\u001b[0mpyplot\u001b[0m \u001b[0;32mas\u001b[0m \u001b[0mplt\u001b[0m\u001b[0;34m\u001b[0m\u001b[0m\n\u001b[0m\u001b[1;32m      3\u001b[0m \u001b[0mget_ipython\u001b[0m\u001b[0;34m(\u001b[0m\u001b[0;34m)\u001b[0m\u001b[0;34m.\u001b[0m\u001b[0mrun_line_magic\u001b[0m\u001b[0;34m(\u001b[0m\u001b[0;34m'matplotlib'\u001b[0m\u001b[0;34m,\u001b[0m \u001b[0;34m'inline'\u001b[0m\u001b[0;34m)\u001b[0m\u001b[0;34m\u001b[0m\u001b[0m\n\u001b[1;32m      4\u001b[0m \u001b[0;34m\u001b[0m\u001b[0m\n\u001b[1;32m      5\u001b[0m \u001b[0;31m# This code creates a virtual display to draw game images on.\u001b[0m\u001b[0;34m\u001b[0m\u001b[0;34m\u001b[0m\u001b[0m\n",
      "\u001b[0;31mModuleNotFoundError\u001b[0m: No module named 'matplotlib'"
     ],
     "output_type": "error"
    }
   ],
   "source": [
    "import numpy as np\n",
    "import matplotlib.pyplot as plt\n",
    "%matplotlib inline\n",
    "\n",
    "# This code creates a virtual display to draw game images on. \n",
    "# If you are running locally, just ignore it\n",
    "import os\n",
    "if type(os.environ.get(\"DISPLAY\")) is not str or len(os.environ.get(\"DISPLAY\"))==0:\n",
    "    !bash ../xvfb start\n",
    "    %env DISPLAY=:1"
   ]
  },
  {
   "cell_type": "markdown",
   "metadata": {},
   "source": [
    "### OpenAI Gym\n",
    "\n",
    "We're gonna spend several next weeks learning algorithms that solve decision processes. We are then in need of some interesting decision problems to test our algorithms.\n",
    "\n",
    "That's where OpenAI gym comes into play. It's a python library that wraps many classical decision problems including robot control, videogames and board games.\n",
    "\n",
    "So here's how it works:"
   ]
  },
  {
   "cell_type": "code",
   "execution_count": 2,
   "metadata": {},
   "outputs": [
    {
     "name": "stdout",
     "output_type": "stream",
     "text": [
      "\u001b[33mWARN: gym.spaces.Box autodetected dtype as <class 'numpy.float32'>. Please provide explicit dtype.\u001b[0m\n",
      "Observation space: Box(2,)\n",
      "Action space: Discrete(3)\n"
     ]
    }
   ],
   "source": [
    "import gym\n",
    "env = gym.make(\"MountainCar-v0\")\n",
    "print(\"Observation space:\", env.observation_space)\n",
    "print(\"Action space:\", env.action_space)"
   ]
  },
  {
   "cell_type": "code",
   "execution_count": 3,
   "metadata": {},
   "outputs": [
    {
     "data": {
      "text/plain": [
       "<matplotlib.image.AxesImage at 0x7f95b3cd9c18>"
      ]
     },
     "execution_count": 3,
     "metadata": {},
     "output_type": "execute_result"
    },
    {
     "data": {
      "image/png": "[encoded data removed]",
      "text/plain": [
       "<matplotlib.figure.Figure at 0x7f95ba1bcd30>"
      ]
     },
     "metadata": {},
     "output_type": "display_data"
    }
   ],
   "source": [
    "# draw game image.\n",
    "# Note: this function does not work in coursera environment. \n",
    "# Please read week1/section1 about setting up course environment locally.\n",
    "# You shouldn't be reading this if the course has already launched.\n",
    "plt.imshow(env.render(mode=\"rgb_array\"))"
   ]
  },
  {
   "cell_type": "markdown",
   "metadata": {},
   "source": [
    "Note: if you're running this on your local machine, you'll see a window pop up with the image above. Don't close it, just alt-tab away."
   ]
  },
  {
   "cell_type": "markdown",
   "metadata": {},
   "source": [
    "### Gym interface\n",
    "\n",
    "The three main methods of an environment are\n",
    "* __reset()__ - reset environment to initial state, _return first observation_\n",
    "* __render()__ - show current environment state (a more colorful version :) )\n",
    "* __step(a)__ - commit action __a__ and return (new observation, reward, is done, info)\n",
    " * _new observation_ - an observation right after commiting the action __a__\n",
    " * _reward_ - a number representing your reward for commiting action __a__\n",
    " * _is done_ - True if the MDP has just finished, False if still in progress\n",
    " * _info_ - some auxilary stuff about what just happened. Ignore it ~~for now~~."
   ]
  },
  {
   "cell_type": "code",
   "execution_count": 4,
   "metadata": {
    "scrolled": true
   },
   "outputs": [
    {
     "name": "stdout",
     "output_type": "stream",
     "text": [
      "initial observation code: [-0.54417579  0.        ]\n"
     ]
    }
   ],
   "source": [
    "obs0 = env.reset()\n",
    "print(\"initial observation code:\", obs0)\n",
    "\n",
    "# Note: in MountainCar, observation is just two numbers: car position and velocity"
   ]
  },
  {
   "cell_type": "code",
   "execution_count": 5,
   "metadata": {},
   "outputs": [
    {
     "name": "stdout",
     "output_type": "stream",
     "text": [
      "taking action 2 (right)\n",
      "new observation code: [-0.54302156  0.00115423]\n",
      "reward: -1.0\n",
      "is game over?: False\n"
     ]
    }
   ],
   "source": [
    "print(\"taking action 2 (right)\")\n",
    "new_obs, reward, is_done, _ = env.step(2)\n",
    "\n",
    "print(\"new observation code:\", new_obs)\n",
    "print(\"reward:\", reward)\n",
    "print(\"is game over?:\", is_done)\n",
    "\n",
    "# Note: as you can see, the car has moved to the riht slightly (around 0.0005)"
   ]
  },
  {
   "cell_type": "markdown",
   "metadata": {},
   "source": [
    "### Play with it\n",
    "\n",
    "Below is the code that drives the car to the right. \n",
    "\n",
    "However, it doesn't reach the flag at the far right due to gravity. \n",
    "\n",
    "__Your task__ is to fix it. Find a strategy that reaches the flag. \n",
    "\n",
    "You're not required to build any sophisticated algorithms for now, feel free to hard-code :)\n",
    "\n",
    "_Hint: your action at each step should depend either on __t__ or on __s__._"
   ]
  },
  {
   "cell_type": "code",
   "execution_count": 6,
   "metadata": {},
   "outputs": [
    {
     "name": "stdout",
     "output_type": "stream",
     "text": [
      "\u001b[33mWARN: gym.spaces.Box autodetected dtype as <class 'numpy.float32'>. Please provide explicit dtype.\u001b[0m\n"
     ]
    },
    {
     "data": {
      "text/plain": [
       "<IPython.core.display.Javascript object>"
      ]
     },
     "metadata": {},
     "output_type": "display_data"
    },
    {
     "data": {
      "text/html": [
       "<img src=\"data:image/png;base64,iVBORw0KGgoAAAANSUhEUgAAAbAAAAEgCAYAAADVKCZpAAAK20lEQVR4Xu3VgQkAAAgCwdx/6eZ4uCaQM3DnCBAgQIBAUGDBzCITIECAAIEzYJ6AAAECBJICBixZm9AECBAgYMD8AAECBAgkBQxYsjahCRAgQMCA+QECBAgQSAoYsGRtQhMgQICAAfMDBAgQIJAUMGDJ2oQmQIAAAQPmBwgQIEAgKWDAkrUJTYAAAQIGzA8QIECAQFLAgCVrE5oAAQIEDJgfIECAAIGkgAFL1iY0AQIECBgwP0CAAAECSQEDlqxNaAIECBAwYH6AAAECBJICBixZm9AECBAgYMD8AAECBAgkBQxYsjahCRAgQMCA+QECBAgQSAoYsGRtQhMgQICAAfMDBAgQIJAUMGDJ2oQmQIAAAQPmBwgQIEAgKWDAkrUJTYAAAQIGzA8QIECAQFLAgCVrE5oAAQIEDJgfIECAAIGkgAFL1iY0AQIECBgwP0CAAAECSQEDlqxNaAIECBAwYH6AAAECBJICBixZm9AECBAgYMD8AAECBAgkBQxYsjahCRAgQMCA+QECBAgQSAoYsGRtQhMgQICAAfMDBAgQIJAUMGDJ2oQmQIAAAQPmBwgQIEAgKWDAkrUJTYAAAQIGzA8QIECAQFLAgCVrE5oAAQIEDJgfIECAAIGkgAFL1iY0AQIECBgwP0CAAAECSQEDlqxNaAIECBAwYH6AAAECBJICBixZm9AECBAgYMD8AAECBAgkBQxYsjahCRAgQMCA+QECBAgQSAoYsGRtQhMgQICAAfMDBAgQIJAUMGDJ2oQmQIAAAQPmBwgQIEAgKWDAkrUJTYAAAQIGzA8QIECAQFLAgCVrE5oAAQIEDJgfIECAAIGkgAFL1iY0AQIECBgwP0CAAAECSQEDlqxNaAIECBAwYH6AAAECBJICBixZm9AECBAgYMD8AAECBAgkBQxYsjahCRAgQMCA+QECBAgQSAoYsGRtQhMgQICAAfMDBAgQIJAUMGDJ2oQmQIAAAQPmBwgQIEAgKWDAkrUJTYAAAQIGzA8QIECAQFLAgCVrE5oAAQIEDJgfIECAAIGkgAFL1iY0AQIECBgwP0CAAAECSQEDlqxNaAIECBAwYH6AAAECBJICBixZm9AECBAgYMD8AAECBAgkBQxYsjahCRAgQMCA+QECBAgQSAoYsGRtQhMgQICAAfMDBAgQIJAUMGDJ2oQmQIAAAQPmBwgQIEAgKWDAkrUJTYAAAQIGzA8QIECAQFLAgCVrE5oAAQIEDJgfIECAAIGkgAFL1iY0AQIECBgwP0CAAAECSQEDlqxNaAIECBAwYH6AAAECBJICBixZm9AECBAgYMD8AAECBAgkBQxYsjahCRAgQMCA+QECBAgQSAoYsGRtQhMgQICAAfMDBAgQIJAUMGDJ2oQmQIAAAQPmBwgQIEAgKWDAkrUJTYAAAQIGzA8QIECAQFLAgCVrE5oAAQIEDJgfIECAAIGkgAFL1iY0AQIECBgwP0CAAAECSQEDlqxNaAIECBAwYH6AAAECBJICBixZm9AECBAgYMD8AAECBAgkBQxYsjahCRAgQMCA+QECBAgQSAoYsGRtQhMgQICAAfMDBAgQIJAUMGDJ2oQmQIAAAQPmBwgQIEAgKWDAkrUJTYAAAQIGzA8QIECAQFLAgCVrE5oAAQIEDJgfIECAAIGkgAFL1iY0AQIECBgwP0CAAAECSQEDlqxNaAIECBAwYH6AAAECBJICBixZm9AECBAgYMD8AAECBAgkBQxYsjahCRAgQMCA+QECBAgQSAoYsGRtQhMgQICAAfMDBAgQIJAUMGDJ2oQmQIAAAQPmBwgQIEAgKWDAkrUJTYAAAQIGzA8QIECAQFLAgCVrE5oAAQIEDJgfIECAAIGkgAFL1iY0AQIECBgwP0CAAAECSQEDlqxNaAIECBAwYH6AAAECBJICBixZm9AECBAgYMD8AAECBAgkBQxYsjahCRAgQMCA+QECBAgQSAoYsGRtQhMgQICAAfMDBAgQIJAUMGDJ2oQmQIAAAQPmBwgQIEAgKWDAkrUJTYAAAQIGzA8QIECAQFLAgCVrE5oAAQIEDJgfIECAAIGkgAFL1iY0AQIECBgwP0CAAAECSQEDlqxNaAIECBAwYH6AAAECBJICBixZm9AECBAgYMD8AAECBAgkBQxYsjahCRAgQMCA+QECBAgQSAoYsGRtQhMgQICAAfMDBAgQIJAUMGDJ2oQmQIAAAQPmBwgQIEAgKWDAkrUJTYAAAQIGzA8QIECAQFLAgCVrE5oAAQIEDJgfIECAAIGkgAFL1iY0AQIECBgwP0CAAAECSQEDlqxNaAIECBAwYH6AAAECBJICBixZm9AECBAgYMD8AAECBAgkBQxYsjahCRAgQMCA+QECBAgQSAoYsGRtQhMgQICAAfMDBAgQIJAUMGDJ2oQmQIAAAQPmBwgQIEAgKWDAkrUJTYAAAQIGzA8QIECAQFLAgCVrE5oAAQIEDJgfIECAAIGkgAFL1iY0AQIECBgwP0CAAAECSQEDlqxNaAIECBAwYH6AAAECBJICBixZm9AECBAgYMD8AAECBAgkBQxYsjahCRAgQMCA+QECBAgQSAoYsGRtQhMgQICAAfMDBAgQIJAUMGDJ2oQmQIAAAQPmBwgQIEAgKWDAkrUJTYAAAQIGzA8QIECAQFLAgCVrE5oAAQIEDJgfIECAAIGkgAFL1iY0AQIECBgwP0CAAAECSQEDlqxNaAIECBAwYH6AAAECBJICBixZm9AECBAgYMD8AAECBAgkBQxYsjahCRAgQMCA+QECBAgQSAoYsGRtQhMgQICAAfMDBAgQIJAUMGDJ2oQmQIAAAQPmBwgQIEAgKWDAkrUJTYAAAQIGzA8QIECAQFLAgCVrE5oAAQIEDJgfIECAAIGkgAFL1iY0AQIECBgwP0CAAAECSQEDlqxNaAIECBAwYH6AAAECBJICBixZm9AECBAgYMD8AAECBAgkBQxYsjahCRAgQMCA+QECBAgQSAoYsGRtQhMgQICAAfMDBAgQIJAUMGDJ2oQmQIAAAQPmBwgQIEAgKWDAkrUJTYAAAQIGzA8QIECAQFLAgCVrE5oAAQIEDJgfIECAAIGkgAFL1iY0AQIECBgwP0CAAAECSQEDlqxNaAIECBAwYH6AAAECBJICBixZm9AECBAgYMD8AAECBAgkBQxYsjahCRAgQMCA+QECBAgQSAoYsGRtQhMgQICAAfMDBAgQIJAUMGDJ2oQmQIAAAQPmBwgQIEAgKWDAkrUJTYAAAQIGzA8QIECAQFLAgCVrE5oAAQIEDJgfIECAAIGkgAFL1iY0AQIECBgwP0CAAAECSQEDlqxNaAIECBAwYH6AAAECBJICBixZm9AECBAgYMD8AAECBAgkBQxYsjahCRAgQMCA+QECBAgQSAoYsGRtQhMgQICAAfMDBAgQIJAUMGDJ2oQmQIAAAQPmBwgQIEAgKWDAkrUJTYAAAQIGzA8QIECAQFLAgCVrE5oAAQIEDJgfIECAAIGkgAFL1iY0AQIECBgwP0CAAAECSQEDlqxNaAIECBAwYH6AAAECBJICBixZm9AECBAgYMD8AAECBAgkBQxYsjahCRAgQMCA+QECBAgQSAoYsGRtQhMgQICAAfMDBAgQIJAUMGDJ2oQmQIAAAQPmBwgQIEAgKWDAkrUJTYAAAQIGzA8QIECAQFLAgCVrE5oAAQIEDJgfIECAAIGkgAFL1iY0AQIECDzIbwEhPy/9RgAAAABJRU5ErkJggg==\" width=\"432\">"
      ],
      "text/plain": [
       "<IPython.core.display.HTML object>"
      ]
     },
     "metadata": {},
     "output_type": "execute_result"
    },
    {
     "ename": "TypeError",
     "evalue": "Invalid dimensions for image data",
     "traceback": [
      "\u001b[0;31m---------------------------------------------------------------------------\u001b[0m",
      "\u001b[0;31mTypeError\u001b[0m                                 Traceback (most recent call last)",
      "\u001b[0;32m<ipython-input-6-51a4a545014b>\u001b[0m in \u001b[0;36m<module>\u001b[0;34m()\u001b[0m\n\u001b[1;32m     26\u001b[0m     \u001b[0;31m#draw game image on display\u001b[0m\u001b[0;34m\u001b[0m\u001b[0;34m\u001b[0m\u001b[0m\n\u001b[1;32m     27\u001b[0m     \u001b[0max\u001b[0m\u001b[0;34m.\u001b[0m\u001b[0mclear\u001b[0m\u001b[0;34m(\u001b[0m\u001b[0;34m)\u001b[0m\u001b[0;34m\u001b[0m\u001b[0m\n\u001b[0;32m---> 28\u001b[0;31m     \u001b[0max\u001b[0m\u001b[0;34m.\u001b[0m\u001b[0mimshow\u001b[0m\u001b[0;34m(\u001b[0m\u001b[0menv\u001b[0m\u001b[0;34m.\u001b[0m\u001b[0mrender\u001b[0m\u001b[0;34m(\u001b[0m\u001b[0;34m)\u001b[0m\u001b[0;34m)\u001b[0m\u001b[0;34m\u001b[0m\u001b[0m\n\u001b[0m\u001b[1;32m     29\u001b[0m     \u001b[0mfig\u001b[0m\u001b[0;34m.\u001b[0m\u001b[0mcanvas\u001b[0m\u001b[0;34m.\u001b[0m\u001b[0mdraw\u001b[0m\u001b[0;34m(\u001b[0m\u001b[0;34m)\u001b[0m\u001b[0;34m\u001b[0m\u001b[0m\n\u001b[1;32m     30\u001b[0m \u001b[0;34m\u001b[0m\u001b[0m\n",
      "\u001b[0;32m~/anaconda3/lib/python3.6/site-packages/matplotlib/__init__.py\u001b[0m in \u001b[0;36minner\u001b[0;34m(ax, *args, **kwargs)\u001b[0m\n\u001b[1;32m   1715\u001b[0m                     warnings.warn(msg % (label_namer, func.__name__),\n\u001b[1;32m   1716\u001b[0m                                   RuntimeWarning, stacklevel=2)\n\u001b[0;32m-> 1717\u001b[0;31m             \u001b[0;32mreturn\u001b[0m \u001b[0mfunc\u001b[0m\u001b[0;34m(\u001b[0m\u001b[0max\u001b[0m\u001b[0;34m,\u001b[0m \u001b[0;34m*\u001b[0m\u001b[0margs\u001b[0m\u001b[0;34m,\u001b[0m \u001b[0;34m**\u001b[0m\u001b[0mkwargs\u001b[0m\u001b[0;34m)\u001b[0m\u001b[0;34m\u001b[0m\u001b[0m\n\u001b[0m\u001b[1;32m   1718\u001b[0m         \u001b[0mpre_doc\u001b[0m \u001b[0;34m=\u001b[0m \u001b[0minner\u001b[0m\u001b[0;34m.\u001b[0m\u001b[0m__doc__\u001b[0m\u001b[0;34m\u001b[0m\u001b[0m\n\u001b[1;32m   1719\u001b[0m         \u001b[0;32mif\u001b[0m \u001b[0mpre_doc\u001b[0m \u001b[0;32mis\u001b[0m \u001b[0;32mNone\u001b[0m\u001b[0;34m:\u001b[0m\u001b[0;34m\u001b[0m\u001b[0m\n",
      "\u001b[0;32m~/anaconda3/lib/python3.6/site-packages/matplotlib/axes/_axes.py\u001b[0m in \u001b[0;36mimshow\u001b[0;34m(self, X, cmap, norm, aspect, interpolation, alpha, vmin, vmax, origin, extent, shape, filternorm, filterrad, imlim, resample, url, **kwargs)\u001b[0m\n\u001b[1;32m   5129\u001b[0m                               resample=resample, **kwargs)\n\u001b[1;32m   5130\u001b[0m \u001b[0;34m\u001b[0m\u001b[0m\n\u001b[0;32m-> 5131\u001b[0;31m         \u001b[0mim\u001b[0m\u001b[0;34m.\u001b[0m\u001b[0mset_data\u001b[0m\u001b[0;34m(\u001b[0m\u001b[0mX\u001b[0m\u001b[0;34m)\u001b[0m\u001b[0;34m\u001b[0m\u001b[0m\n\u001b[0m\u001b[1;32m   5132\u001b[0m         \u001b[0mim\u001b[0m\u001b[0;34m.\u001b[0m\u001b[0mset_alpha\u001b[0m\u001b[0;34m(\u001b[0m\u001b[0malpha\u001b[0m\u001b[0;34m)\u001b[0m\u001b[0;34m\u001b[0m\u001b[0m\n\u001b[1;32m   5133\u001b[0m         \u001b[0;32mif\u001b[0m \u001b[0mim\u001b[0m\u001b[0;34m.\u001b[0m\u001b[0mget_clip_path\u001b[0m\u001b[0;34m(\u001b[0m\u001b[0;34m)\u001b[0m \u001b[0;32mis\u001b[0m \u001b[0;32mNone\u001b[0m\u001b[0;34m:\u001b[0m\u001b[0;34m\u001b[0m\u001b[0m\n",
      "\u001b[0;32m~/anaconda3/lib/python3.6/site-packages/matplotlib/image.py\u001b[0m in \u001b[0;36mset_data\u001b[0;34m(self, A)\u001b[0m\n\u001b[1;32m    620\u001b[0m         if not (self._A.ndim == 2\n\u001b[1;32m    621\u001b[0m                 or self._A.ndim == 3 and self._A.shape[-1] in [3, 4]):\n\u001b[0;32m--> 622\u001b[0;31m             \u001b[0;32mraise\u001b[0m \u001b[0mTypeError\u001b[0m\u001b[0;34m(\u001b[0m\u001b[0;34m\"Invalid dimensions for image data\"\u001b[0m\u001b[0;34m)\u001b[0m\u001b[0;34m\u001b[0m\u001b[0m\n\u001b[0m\u001b[1;32m    623\u001b[0m \u001b[0;34m\u001b[0m\u001b[0m\n\u001b[1;32m    624\u001b[0m         \u001b[0mself\u001b[0m\u001b[0;34m.\u001b[0m\u001b[0m_imcache\u001b[0m \u001b[0;34m=\u001b[0m \u001b[0;32mNone\u001b[0m\u001b[0;34m\u001b[0m\u001b[0m\n",
      "\u001b[0;31mTypeError\u001b[0m: Invalid dimensions for image data"
     ],
     "output_type": "error"
    },
    {
     "data": {
      "text/plain": [
       "<IPython.core.display.Javascript object>"
      ]
     },
     "metadata": {},
     "output_type": "display_data"
    },
    {
     "data": {
      "text/html": [
       "<img src=\"data:image/png;base64,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\" width=\"432\">"
      ],
      "text/plain": [
       "<IPython.core.display.HTML object>"
      ]
     },
     "metadata": {},
     "output_type": "execute_result"
    }
   ],
   "source": [
    "\n",
    "# create env manually to set time limit. Please don't change this.\n",
    "TIME_LIMIT = 250\n",
    "env = gym.wrappers.TimeLimit(gym.envs.classic_control.MountainCarEnv(),\n",
    "                             max_episode_steps=TIME_LIMIT + 1)\n",
    "s = env.reset()\n",
    "actions = {'left': 0, 'stop': 1, 'right': 2}\n",
    "\n",
    "# prepare \"display\"\n",
    "%matplotlib notebook\n",
    "fig = plt.figure()\n",
    "ax = fig.add_subplot(111)\n",
    "fig.show()\n",
    "\n",
    "def policy(t):\n",
    "    if t < 40:\n",
    "        return actions['left']\n",
    "    else:\n",
    "        return actions['right']\n",
    "\n",
    "for t in range(TIME_LIMIT):\n",
    "    \n",
    "    # change the line below to reach the flag\n",
    "    s, r, done, _ = env.step(policy(t))\n",
    "    \n",
    "    #draw game image on display\n",
    "    ax.clear()\n",
    "    ax.imshow(env.render())\n",
    "    fig.canvas.draw()\n",
    "    \n",
    "    if done:\n",
    "        print(\"Well done!\")\n",
    "        break\n",
    "else:    \n",
    "    print(\"Time limit exceeded. Try again.\")"
   ]
  },
  {
   "cell_type": "markdown",
   "metadata": {},
   "source": [
    "### Submit to coursera"
   ]
  },
  {
   "cell_type": "code",
   "execution_count": null,
   "metadata": {},
   "outputs": [],
   "source": [
    "from submit import submit_interface\n",
    "submit_interface(policy, henrytjsh@gmail.com, YED3VBrkyIniCPGk)"
   ]
  },
  {
   "cell_type": "code",
   "execution_count": null,
   "metadata": {},
   "outputs": [],
   "source": []
  }
 ],
 "metadata": {
  "kernelspec": {
   "display_name": "Python 3",
   "language": "python",
   "name": "python3"
  },
  "language_info": {
   "codemirror_mode": {
    "name": "ipython",
    "version": 3
   },
   "file_extension": ".py",
   "mimetype": "text/x-python",
   "name": "python",
   "nbconvert_exporter": "python",
   "pygments_lexer": "ipython3",
   "version": "3.6.4"
  }
 },
 "nbformat": 4,
 "nbformat_minor": 1
}
